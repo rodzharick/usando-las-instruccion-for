{
  "nbformat": 4,
  "nbformat_minor": 0,
  "metadata": {
    "colab": {
      "provenance": [],
      "authorship_tag": "ABX9TyPXK/XylDNGwybqlSwioAgr",
      "include_colab_link": true
    },
    "kernelspec": {
      "name": "python3",
      "display_name": "Python 3"
    },
    "language_info": {
      "name": "python"
    }
  },
  "cells": [
    {
      "cell_type": "markdown",
      "metadata": {
        "id": "view-in-github",
        "colab_type": "text"
      },
      "source": [
        "<a href=\"https://colab.research.google.com/github/rodzharick/usando-las-instruccion-for/blob/main/for_1.ipynb\" target=\"_parent\"><img src=\"https://colab.research.google.com/assets/colab-badge.svg\" alt=\"Open In Colab\"/></a>"
      ]
    },
    {
      "cell_type": "code",
      "source": [
        "print(\"Bienvenidos a google colaboratory\")"
      ],
      "metadata": {
        "colab": {
          "base_uri": "https://localhost:8080/"
        },
        "id": "f0GWgz-oSvYd",
        "outputId": "d8687dff-54b2-42f7-f3e4-e4eef8004b34"
      },
      "execution_count": null,
      "outputs": [
        {
          "output_type": "stream",
          "name": "stdout",
          "text": [
            "Bienvenidos a google colaboratory\n"
          ]
        }
      ]
    },
    {
      "cell_type": "markdown",
      "source": [
        "# Estructura repetitiva for\n",
        "es una estrucutura para.."
      ],
      "metadata": {
        "id": "eLqseYRdTWF5"
      }
    },
    {
      "cell_type": "code",
      "source": [
        "# programa 1 instrucciones for\n",
        "# mosttrar la suma de los 10 primero numeros naturales\n",
        "\n",
        "#input\n",
        "#processing\n",
        "suma=0\n",
        "serie= list(range(1,11))\n",
        "for i in range(1,11):\n",
        "  suma+=i\n",
        "\n",
        "#ouput\n",
        "print(\"la suma es:\",suma)\n",
        "print(serie)"
      ],
      "metadata": {
        "colab": {
          "base_uri": "https://localhost:8080/"
        },
        "id": "JJT233KhTzTm",
        "outputId": "84c9d23c-760b-47e2-a5f7-0c8f17c79c6e"
      },
      "execution_count": null,
      "outputs": [
        {
          "output_type": "stream",
          "name": "stdout",
          "text": [
            "la suma es: 55\n",
            "[1, 2, 3, 4, 5, 6, 7, 8, 9, 10]\n"
          ]
        }
      ]
    },
    {
      "cell_type": "markdown",
      "source": [
        "#la funcion range\n",
        "La función range crea una serie de números consecutivos. La serie que se crea se construye por defecto iniciando en 0 y terminando un número antes del argumento que se le entrega a la función. Cada número de la serie se incrementa en 1\n",
        "ejemplos\n",
        "for i in range(10):\n",
        "   print(i)"
      ],
      "metadata": {
        "id": "Ylzj_cMMVS2O"
      }
    },
    {
      "cell_type": "code",
      "source": [
        "# ejercicio N.2 mostrar los numero de un 1 a 10 s intrucciones repetitivas\n",
        "print(1)\n",
        "print(2)\n",
        "print(3)\n",
        "print(4)\n",
        "print(5)\n",
        "print(6)\n",
        "print(7)\n",
        "print(8)\n",
        "print(9)\n",
        "print(10)"
      ],
      "metadata": {
        "id": "axwa8bgIPDDW"
      },
      "execution_count": null,
      "outputs": []
    },
    {
      "cell_type": "code",
      "source": [
        "# ejercicio N.3 mostrar los numeros del 1 al 10\n",
        "i=1\n",
        "while(i<=10):\n",
        "  print(i)\n",
        "  i= i+1"
      ],
      "metadata": {
        "id": "RlI5JvpBPoQ4"
      },
      "execution_count": null,
      "outputs": []
    },
    {
      "cell_type": "code",
      "source": [
        "# ejercicio N.4  mostrar los numeros del 1 al 10 usando la instruccion for\n",
        "for i  in range(1,11)\n",
        "print(i)"
      ],
      "metadata": {
        "id": "jgJgSve3QXF0"
      },
      "execution_count": null,
      "outputs": []
    },
    {
      "cell_type": "code",
      "source": [
        "#ejercicio N.5 mostrar los numeros del 1 a 10 usando la instruccion for y una lista\n",
        "mi_lista=[1,2,3,4,5,6,7,8,9,10]\n",
        "for i in mi_lista:\n",
        "  print(i)"
      ],
      "metadata": {
        "id": "ZzSvsZvhQxxt"
      },
      "execution_count": null,
      "outputs": []
    },
    {
      "cell_type": "code",
      "source": [
        "# ejercicio N.6 mostrar la frase  10 veces usando la instruccion for y una lista\n",
        "mi_lista=[1,2,3,4,5,6,7,8,9,10]\n",
        "for i in mi_lista:\n",
        "  print(f\"{i}guanenta 200 años!\")\n"
      ],
      "metadata": {
        "id": "ee65C0FGUHfE"
      },
      "execution_count": null,
      "outputs": []
    },
    {
      "cell_type": "code",
      "source": [
        "# ejerrcicio N.7 mostrar la silaba inicial de los dias de la semana usando for y una lista\n",
        "dias_semana=[\"lu\",\"ma\",\"mi\",\"ju\",\"vi\",\"sa\",\"do\"]\n",
        "for i in dias_semana:\n",
        "  print(i)"
      ],
      "metadata": {
        "id": "mLjM7WI9VVcB"
      },
      "execution_count": null,
      "outputs": []
    },
    {
      "cell_type": "code",
      "source": [
        "# ejercicio N.8 mostrar una lista de distintos tipos de datos usando for y una lista\n",
        "mi_listica=[1,3,14,9 ,True,\"zharick\",8,\"guanenta\"]\n",
        "for i in mi_listica:\n",
        "  print(i)"
      ],
      "metadata": {
        "id": "pQOVJHKAWTXD"
      },
      "execution_count": null,
      "outputs": []
    },
    {
      "cell_type": "code",
      "source": [
        "# ejercicio N.9 ingresar su nombre y mostrar letra a letra usando for\n",
        "nombre= input(\"ingrese su nombre:\")\n",
        "for i in nombre:\n",
        "  print(i)"
      ],
      "metadata": {
        "id": "VuQAF7-KXsou"
      },
      "execution_count": null,
      "outputs": []
    },
    {
      "cell_type": "code",
      "source": [
        "# ejercicio N.10 ingresar su nombre pero en una letra (a)se cambia por un * usando for\n",
        "nombre = input(\" digite su nombre\")\n",
        "for i in nombre:\n",
        "  if i==\"a\":\n",
        "    print(\"*\")\n",
        "  else:\n",
        "    print(i)"
      ],
      "metadata": {
        "id": "oXSK83MnYxTH"
      },
      "execution_count": null,
      "outputs": []
    },
    {
      "cell_type": "code",
      "source": [
        "# ejercicio N.10 ingresar su nombre mostrando letra a letra  en mayuscula usando for\n",
        "nombre = input(\" digite su nombre\")\n",
        "for i in nombre:\n",
        "  print(i.upper())"
      ],
      "metadata": {
        "id": "IsjBCJHfbgmr"
      },
      "execution_count": null,
      "outputs": []
    }
  ]
}